{
  "nbformat": 4,
  "nbformat_minor": 0,
  "metadata": {
    "colab": {
      "provenance": [],
      "toc_visible": true
    },
    "kernelspec": {
      "name": "python3",
      "display_name": "Python 3"
    },
    "language_info": {
      "name": "python"
    }
  },
  "cells": [
    {
      "cell_type": "code",
      "source": [
        "a=float(input(\"Enter First Number\"))\n",
        "b=float(input(\"Enter Second Number\"))\n",
        "c=a+b\n",
        "print(\"Sum :\",c)\n",
        "\n",
        "d=float(input(\"Enter First Number\"))\n",
        "e=float(input(\"Enter Second Number\"))\n",
        "f=d/e\n",
        "print(\"Division :\",f)"
      ],
      "metadata": {
        "colab": {
          "base_uri": "https://localhost:8080/"
        },
        "id": "IpPYlWYGiewg",
        "outputId": "de9c760e-73b3-4687-90ff-606c271776fc"
      },
      "execution_count": 21,
      "outputs": [
        {
          "output_type": "stream",
          "name": "stdout",
          "text": [
            "Enter First Number23\n",
            "Enter Second Number34\n",
            "Sum : 57.0\n",
            "Enter First Number23\n",
            "Enter Second Number23\n",
            "Division : 1.0\n"
          ]
        }
      ]
    },
    {
      "cell_type": "code",
      "source": [
        "g=float(input(\"Enter First Number\"))\n",
        "h=float(input(\"Enter Second Number\"))\n",
        "i=g*h/2\n",
        "print(\"Area Of Triangule :\",i)"
      ],
      "metadata": {
        "colab": {
          "base_uri": "https://localhost:8080/"
        },
        "id": "kJi5pIAKjnck",
        "outputId": "486b05ab-e50e-4069-b169-9be09bdb6a9c"
      },
      "execution_count": 22,
      "outputs": [
        {
          "output_type": "stream",
          "name": "stdout",
          "text": [
            "Enter First Number23\n",
            "Enter Second Number22\n",
            "Area Of Triangule : 253.0\n"
          ]
        }
      ]
    },
    {
      "cell_type": "code",
      "source": [
        "j=float(input(\"Enter First Number\"))\n",
        "l=9/5*j+32\n",
        "print(\"Fahrenheit\",l)\n"
      ],
      "metadata": {
        "colab": {
          "base_uri": "https://localhost:8080/"
        },
        "id": "EMElPbX1j0rg",
        "outputId": "b1415b93-b1cf-4a27-cc93-256eae05befa"
      },
      "execution_count": 23,
      "outputs": [
        {
          "output_type": "stream",
          "name": "stdout",
          "text": [
            "Enter First Number37\n",
            "Fahrenheit 98.60000000000001\n"
          ]
        }
      ]
    },
    {
      "cell_type": "code",
      "source": [
        "m=int(input(\"Enter Any Number\") )\n",
        "print(\"Your First Input Type is \" ,type(m))\n",
        "n=float(input(\"Enter Any Point Number\") )\n",
        "print(\"Your Second Input Type is \" ,type(n))\n",
        "o=str(input(\"Enter Any Name\") )\n",
        "print(\"Your Third Input Type is \" ,type(o))"
      ],
      "metadata": {
        "colab": {
          "base_uri": "https://localhost:8080/"
        },
        "id": "D3fy5M36kNQo",
        "outputId": "fc42e033-7e2a-4eb7-81c9-3436fb4ea61a"
      },
      "execution_count": 24,
      "outputs": [
        {
          "output_type": "stream",
          "name": "stdout",
          "text": [
            "Enter Any Number23\n",
            "Your First Input Type is  <class 'int'>\n",
            "Enter Any Point Number23.9\n",
            "Your Second Input Type is  <class 'float'>\n",
            "Enter Any Namenoman\n",
            "Your Third Input Type is  <class 'str'>\n"
          ]
        }
      ]
    }
  ]
}
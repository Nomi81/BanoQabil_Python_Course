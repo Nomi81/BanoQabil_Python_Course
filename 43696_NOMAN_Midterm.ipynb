{
  "nbformat": 4,
  "nbformat_minor": 0,
  "metadata": {
    "colab": {
      "provenance": [],
      "toc_visible": true
    },
    "kernelspec": {
      "name": "python3",
      "display_name": "Python 3"
    },
    "language_info": {
      "name": "python"
    }
  },
  "cells": [
    {
      "cell_type": "code",
      "execution_count": 15,
      "metadata": {
        "colab": {
          "base_uri": "https://localhost:8080/"
        },
        "id": "ZEpbXbtqVgMq",
        "outputId": "45533643-6e3e-4c5d-f30e-7568595fbe10"
      },
      "outputs": [
        {
          "output_type": "stream",
          "name": "stdout",
          "text": [
            "Enter Any Number23\n",
            "Your First Input Type is  <class 'int'>\n",
            "Enter Any Point Number23.0\n",
            "Your Second Input Type is  <class 'float'>\n",
            "Enter Any Namenomi\n",
            "Your Third Input Type is  <class 'str'>\n",
            "Enter Any Numberdef\n",
            "Your Last Input Type is  <class 'bool'>\n"
          ]
        }
      ],
      "source": [
        "# a=float(input(\"Enter First Number\"))\n",
        "# b=float(input(\"Enter Second Number\"))\n",
        "# c=a+b\n",
        "# print(\"Sum :\",c)\n",
        "\n",
        "\n",
        "# d=float(input(\"Enter First Number\"))\n",
        "# e=float(input(\"Enter Second Number\"))\n",
        "# f=d/e\n",
        "# print(\"Division :\",f)\n",
        "\n",
        "# g=float(input(\"Enter First Number\"))\n",
        "# h=float(input(\"Enter Second Number\"))\n",
        "# i=g*h/2\n",
        "# print(\"Area Of Triangule :\",i)\n",
        "\n",
        "\n",
        "# j=float(input(\"Enter First Number\"))\n",
        "# l=9/5*j+32\n",
        "# print(\"Fahrenheit\",l)\n",
        "\n",
        "m=int(input(\"Enter Any Number\") )\n",
        "print(\"Your First Input Type is \" ,type(m))\n",
        "n=float(input(\"Enter Any Point Number\") )\n",
        "print(\"Your Second Input Type is \" ,type(n))\n",
        "o=str(input(\"Enter Any Name\") )\n",
        "print(\"Your Third Input Type is \" ,type(o))\n",
        "\n",
        "\n",
        "\n"
      ]
    }
  ]
}